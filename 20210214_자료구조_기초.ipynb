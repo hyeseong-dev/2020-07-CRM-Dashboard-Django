{
  "nbformat": 4,
  "nbformat_minor": 0,
  "metadata": {
    "colab": {
      "name": "자료구조 기초",
      "provenance": [],
      "collapsed_sections": [],
      "authorship_tag": "ABX9TyMgA1k7Rygv0/YsOz2155W3",
      "include_colab_link": true
    },
    "kernelspec": {
      "name": "python3",
      "display_name": "Python 3"
    }
  },
  "cells": [
    {
      "cell_type": "markdown",
      "metadata": {
        "id": "view-in-github",
        "colab_type": "text"
      },
      "source": [
        "<a href=\"https://colab.research.google.com/github/hyeseong-dev/2020-07-CRM-Dashboard-Django/blob/master/20210214_%EC%9E%90%EB%A3%8C%EA%B5%AC%EC%A1%B0_%EA%B8%B0%EC%B4%88.ipynb\" target=\"_parent\"><img src=\"https://colab.research.google.com/assets/colab-badge.svg\" alt=\"Open In Colab\"/></a>"
      ]
    },
    {
      "cell_type": "code",
      "metadata": {
        "colab": {
          "base_uri": "https://localhost:8080/"
        },
        "id": "yUB1-w-FYUls",
        "outputId": "ad0f5f1a-7aa6-43c7-87a3-568e60b1f992"
      },
      "source": [
        ""
      ],
      "execution_count": 1,
      "outputs": [
        {
          "output_type": "stream",
          "text": [
            "Is stack empty? True\n",
            "Add number 0 ~ 9\n",
            "Stack Size 10\n",
            "peek 9\n",
            "pop 9\n",
            "peek 8\n",
            "스택이 비었나요? False\n",
            "[0, 1, 2, 3, 4, 5, 6, 7, 8]\n"
          ],
          "name": "stdout"
        }
      ]
    },
    {
      "cell_type": "code",
      "metadata": {
        "colab": {
          "base_uri": "https://localhost:8080/"
        },
        "id": "U779JVOnaEjk",
        "outputId": "12ad0fe4-b4ab-4020-fb45-d5452882bb7a"
      },
      "source": [
        "word = input('Input a word: ')\n",
        "word_list = list(word)\n",
        "for _ in range(len(word_list)):\n",
        "  print(word_list.pop())"
      ],
      "execution_count": 4,
      "outputs": [
        {
          "output_type": "stream",
          "text": [
            "Input a word: 이혜성\n",
            "성\n",
            "혜\n",
            "이\n"
          ],
          "name": "stdout"
        }
      ]
    },
    {
      "cell_type": "code",
      "metadata": {
        "colab": {
          "base_uri": "https://localhost:8080/"
        },
        "id": "ADIadjVPatUK",
        "outputId": "5028589c-4aa2-4f7f-a0e8-52380b8032cf"
      },
      "source": [
        "word = input('Input a word: ')\n",
        "word_list = list(word)\n",
        "\n",
        "result = []\n",
        "for _ in range(len(word_list)):\n",
        "  result.append(word_list.pop())\n",
        "print(''.join(result))"
      ],
      "execution_count": 5,
      "outputs": [
        {
          "output_type": "stream",
          "text": [
            "Input a word: ACE_MOOCK\n",
            "KCOOM_ECA\n"
          ],
          "name": "stdout"
        }
      ]
    },
    {
      "cell_type": "code",
      "metadata": {
        "colab": {
          "base_uri": "https://localhost:8080/"
        },
        "id": "IvuTvekpbAqe",
        "outputId": "e756f78c-8530-427c-c504-c3c863b0cab3"
      },
      "source": [
        "# 가장 빠른 방법으로 입력단 값을 역순으로 출력하는것! \n",
        "# 슬라이싱\n",
        "word = input('input')\n",
        "print(word[::-1])"
      ],
      "execution_count": 6,
      "outputs": [
        {
          "output_type": "stream",
          "text": [
            "input안녕하세요. 역순으로 출력되나요?\n",
            "?요나되력출 로으순역 .요세하녕안\n"
          ],
          "name": "stdout"
        }
      ]
    },
    {
      "cell_type": "markdown",
      "metadata": {
        "id": "QVYbf93EbO84"
      },
      "source": [
        "# Queue\n",
        "\n",
        "- enqueue : 큐 뒤쪽에 항목을 삽입한다. \n",
        "- dequeue : 큐 앞쪽의 항목을 반환하고 제거한다. \n",
        "- peek/front : Que 앞쪽의 항목을 조회한다. \n",
        "- empty : 큐가 비었는지 확인\n",
        "- size : check size\n",
        "\n",
        "- 먼저 넣은 데이터를 먼저 반환하도록 설계된 메모리 구조로 FIFO로 구현됨\n",
        "\n",
        "- 스택과 반돼되는 개념 <--> 큐\n",
        "- python list를 활용하여 큐 구조를 활용\n",
        "\n",
        "- put을 append(), get을 pop(0)를 사용"
      ]
    },
    {
      "cell_type": "code",
      "metadata": {
        "colab": {
          "base_uri": "https://localhost:8080/",
          "height": 317
        },
        "id": "WDCkjGTHbPp3",
        "outputId": "e4b57151-0a1c-46ad-905f-c52713f32969"
      },
      "source": [
        "a = [1,2,3,4,5]\n",
        "a.append(10)\n",
        "a.append(20)\n",
        "print(a.pop(0)) # 1출력\n",
        "print(a.pop(0)) # 2출력\n",
        "print(a.pop(0))\n",
        "print(a.pop(0))\n",
        "print(a.pop(0))\n",
        "print(a.pop(0))\n",
        "print(a.pop(0))\n",
        "print(a.pop(0)) # pop할 값이 없는 경우 IndexError를 찍어냄"
      ],
      "execution_count": 10,
      "outputs": [
        {
          "output_type": "stream",
          "text": [
            "1\n",
            "2\n",
            "3\n",
            "4\n",
            "5\n",
            "10\n",
            "20\n"
          ],
          "name": "stdout"
        },
        {
          "output_type": "error",
          "ename": "IndexError",
          "evalue": "ignored",
          "traceback": [
            "\u001b[0;31m---------------------------------------------------------------------------\u001b[0m",
            "\u001b[0;31mIndexError\u001b[0m                                Traceback (most recent call last)",
            "\u001b[0;32m<ipython-input-10-8205444fe906>\u001b[0m in \u001b[0;36m<module>\u001b[0;34m()\u001b[0m\n\u001b[1;32m      9\u001b[0m \u001b[0mprint\u001b[0m\u001b[0;34m(\u001b[0m\u001b[0ma\u001b[0m\u001b[0;34m.\u001b[0m\u001b[0mpop\u001b[0m\u001b[0;34m(\u001b[0m\u001b[0;36m0\u001b[0m\u001b[0;34m)\u001b[0m\u001b[0;34m)\u001b[0m\u001b[0;34m\u001b[0m\u001b[0;34m\u001b[0m\u001b[0m\n\u001b[1;32m     10\u001b[0m \u001b[0mprint\u001b[0m\u001b[0;34m(\u001b[0m\u001b[0ma\u001b[0m\u001b[0;34m.\u001b[0m\u001b[0mpop\u001b[0m\u001b[0;34m(\u001b[0m\u001b[0;36m0\u001b[0m\u001b[0;34m)\u001b[0m\u001b[0;34m)\u001b[0m\u001b[0;34m\u001b[0m\u001b[0;34m\u001b[0m\u001b[0m\n\u001b[0;32m---> 11\u001b[0;31m \u001b[0mprint\u001b[0m\u001b[0;34m(\u001b[0m\u001b[0ma\u001b[0m\u001b[0;34m.\u001b[0m\u001b[0mpop\u001b[0m\u001b[0;34m(\u001b[0m\u001b[0;36m0\u001b[0m\u001b[0;34m)\u001b[0m\u001b[0;34m)\u001b[0m\u001b[0;34m\u001b[0m\u001b[0;34m\u001b[0m\u001b[0m\n\u001b[0m",
            "\u001b[0;31mIndexError\u001b[0m: pop from empty list"
          ]
        }
      ]
    },
    {
      "cell_type": "code",
      "metadata": {
        "id": "d51cp4N3bP3l"
      },
      "source": [
        "# 추상_데이터_타입/3_queue.py(que.py)\n",
        "\n",
        "class Queue(object):\n",
        "  def __init(self):\n",
        "    self.items = []\n",
        "\n",
        "  def isEmpty(self):\n",
        "    return not bool(self.items)\n",
        "\n",
        "  def dequeue(self, items):\n",
        "    self.items.insert(0, item)\n",
        "  \n",
        "  def dequeue(self):\n",
        "    value = self.items.pop()\n",
        "    if value is not None:\n",
        "      return value\n",
        "    else:\n",
        "      print(\"queue is empty\")\n",
        "    \n",
        "  def size(self):\n",
        "    return len(self.items)\n",
        "  \n",
        "  def peek(self):\n",
        "    if self.items:\n",
        "      return self.items[-1]\n",
        "    else:\n",
        "      print(\"Queue is\")"
      ],
      "execution_count": 11,
      "outputs": []
    },
    {
      "cell_type": "code",
      "metadata": {
        "id": "xpp5HwsDbQGV"
      },
      "source": [
        ""
      ],
      "execution_count": null,
      "outputs": []
    },
    {
      "cell_type": "code",
      "metadata": {
        "colab": {
          "base_uri": "https://localhost:8080/",
          "height": 350
        },
        "id": "cUkNWxGDYYfR",
        "outputId": "922b6a50-df4d-49ed-f5b3-38c5f11c30f4"
      },
      "source": [
        "class Node(object):\n",
        "  def __init__(self, value=None, pointer=None):\n",
        "    self.value = value \n",
        "    self.pointer = pointer\n",
        "\n",
        "class Stack(object):\n",
        "  def __init__(self):\n",
        "    self.head = None\n",
        "    self.count = 0\n",
        "\n",
        "  def isEmpty(self):\n",
        "    return not bool(self.head)\n",
        "  \n",
        "  def push(self, item):\n",
        "    self.head = Node(item, self.head)\n",
        "    self.count += 1\n",
        "\n",
        "  def pop(self):\n",
        "    if self.count > 0 and self.head:\n",
        "      self.head = node.pointer\n",
        "      self.count -= 1\n",
        "      return node.value\n",
        "    else:\n",
        "      print(\"stack is empty\")\n",
        "  \n",
        "  def peek(self):\n",
        "    if self.count > 0 and self.head:\n",
        "      return self.head.value\n",
        "    else:\n",
        "      print(\"stack is empty.\")\n",
        "  \n",
        "  def __repr__(self):\n",
        "    return repr(self.items)\n",
        "\n",
        "if __name__ == '__main__':\n",
        "  queue = Queue()\n",
        "  print('is Queue empty {}'.format(queue.isEmpty()))\n",
        "  print('큐에 숫자 0~9 추가 ')\n",
        "  for i in range(10):\n",
        "    queue.enqueue(i)\n",
        "  print('Size of Queue {}'.format(queue.peek()))\n",
        "  print('peek {}'.format(queue.peek()))\n",
        "  print('dequeue {}'.format(queue.dequeue()))\n",
        "  print('peek {}'.format(queue.peek()))\n"
      ],
      "execution_count": 13,
      "outputs": [
        {
          "output_type": "error",
          "ename": "AttributeError",
          "evalue": "ignored",
          "traceback": [
            "\u001b[0;31m---------------------------------------------------------------------------\u001b[0m",
            "\u001b[0;31mAttributeError\u001b[0m                            Traceback (most recent call last)",
            "\u001b[0;32m<ipython-input-13-18f68c377122>\u001b[0m in \u001b[0;36m<module>\u001b[0;34m()\u001b[0m\n\u001b[1;32m     35\u001b[0m \u001b[0;32mif\u001b[0m \u001b[0m__name__\u001b[0m \u001b[0;34m==\u001b[0m \u001b[0;34m'__main__'\u001b[0m\u001b[0;34m:\u001b[0m\u001b[0;34m\u001b[0m\u001b[0;34m\u001b[0m\u001b[0m\n\u001b[1;32m     36\u001b[0m   \u001b[0mqueue\u001b[0m \u001b[0;34m=\u001b[0m \u001b[0mQueue\u001b[0m\u001b[0;34m(\u001b[0m\u001b[0;34m)\u001b[0m\u001b[0;34m\u001b[0m\u001b[0;34m\u001b[0m\u001b[0m\n\u001b[0;32m---> 37\u001b[0;31m   \u001b[0mprint\u001b[0m\u001b[0;34m(\u001b[0m\u001b[0;34m'is Queue empty {}'\u001b[0m\u001b[0;34m.\u001b[0m\u001b[0mformat\u001b[0m\u001b[0;34m(\u001b[0m\u001b[0mqueue\u001b[0m\u001b[0;34m.\u001b[0m\u001b[0misEmpty\u001b[0m\u001b[0;34m(\u001b[0m\u001b[0;34m)\u001b[0m\u001b[0;34m)\u001b[0m\u001b[0;34m)\u001b[0m\u001b[0;34m\u001b[0m\u001b[0;34m\u001b[0m\u001b[0m\n\u001b[0m\u001b[1;32m     38\u001b[0m   \u001b[0mprint\u001b[0m\u001b[0;34m(\u001b[0m\u001b[0;34m'큐에 숫자 0~9 추가 '\u001b[0m\u001b[0;34m)\u001b[0m\u001b[0;34m\u001b[0m\u001b[0;34m\u001b[0m\u001b[0m\n\u001b[1;32m     39\u001b[0m   \u001b[0;32mfor\u001b[0m \u001b[0mi\u001b[0m \u001b[0;32min\u001b[0m \u001b[0mrange\u001b[0m\u001b[0;34m(\u001b[0m\u001b[0;36m10\u001b[0m\u001b[0;34m)\u001b[0m\u001b[0;34m:\u001b[0m\u001b[0;34m\u001b[0m\u001b[0;34m\u001b[0m\u001b[0m\n",
            "\u001b[0;32m<ipython-input-11-d9c5d602ff43>\u001b[0m in \u001b[0;36misEmpty\u001b[0;34m(self)\u001b[0m\n\u001b[1;32m      6\u001b[0m \u001b[0;34m\u001b[0m\u001b[0m\n\u001b[1;32m      7\u001b[0m   \u001b[0;32mdef\u001b[0m \u001b[0misEmpty\u001b[0m\u001b[0;34m(\u001b[0m\u001b[0mself\u001b[0m\u001b[0;34m)\u001b[0m\u001b[0;34m:\u001b[0m\u001b[0;34m\u001b[0m\u001b[0;34m\u001b[0m\u001b[0m\n\u001b[0;32m----> 8\u001b[0;31m     \u001b[0;32mreturn\u001b[0m \u001b[0;32mnot\u001b[0m \u001b[0mbool\u001b[0m\u001b[0;34m(\u001b[0m\u001b[0mself\u001b[0m\u001b[0;34m.\u001b[0m\u001b[0mitems\u001b[0m\u001b[0;34m)\u001b[0m\u001b[0;34m\u001b[0m\u001b[0;34m\u001b[0m\u001b[0m\n\u001b[0m\u001b[1;32m      9\u001b[0m \u001b[0;34m\u001b[0m\u001b[0m\n\u001b[1;32m     10\u001b[0m   \u001b[0;32mdef\u001b[0m \u001b[0mdequeue\u001b[0m\u001b[0;34m(\u001b[0m\u001b[0mself\u001b[0m\u001b[0;34m,\u001b[0m \u001b[0mitems\u001b[0m\u001b[0;34m)\u001b[0m\u001b[0;34m:\u001b[0m\u001b[0;34m\u001b[0m\u001b[0;34m\u001b[0m\u001b[0m\n",
            "\u001b[0;31mAttributeError\u001b[0m: 'Queue' object has no attribute 'items'"
          ]
        }
      ]
    },
    {
      "cell_type": "markdown",
      "metadata": {
        "id": "KbzCV1xHevMt"
      },
      "source": [
        "### 튜플 언패킹\n",
        "\n",
        "파이썬에서 모든 반복 가능한(iterable 객체), 시퀀스 언패킹 연산자, sequence unpacking operator == * 를 사용하여 언패킹 할 수 있어요. 변수를 할당하는  문장에서 왼쪽에 두 개이 상의 변수를 사용하고 한 변수 앞에 * 연산자가 붙으면, 오른쪽 값들 중 할당되고 남은 값들이 * 연산자가 붙은 변수에 할당되요. \n"
      ]
    },
    {
      "cell_type": "code",
      "metadata": {
        "id": "4TesIaKoe0ru",
        "colab": {
          "base_uri": "https://localhost:8080/"
        },
        "outputId": "36c0a6ce-a8c4-4a46-b671-2e6dda39e9c8"
      },
      "source": [
        "x, *y = (1,2,3,4)\n",
        "print(x, type(x))"
      ],
      "execution_count": 6,
      "outputs": [
        {
          "output_type": "stream",
          "text": [
            "1 <class 'int'>\n"
          ],
          "name": "stdout"
        }
      ]
    },
    {
      "cell_type": "code",
      "metadata": {
        "colab": {
          "base_uri": "https://localhost:8080/"
        },
        "id": "IWWT5YI2gEKH",
        "outputId": "a04fb145-3535-4908-af8e-d297f3924a52"
      },
      "source": [
        "print(type(y), y)"
      ],
      "execution_count": 7,
      "outputs": [
        {
          "output_type": "stream",
          "text": [
            "<class 'list'> [2, 3, 4]\n"
          ],
          "name": "stdout"
        }
      ]
    },
    {
      "cell_type": "code",
      "metadata": {
        "colab": {
          "base_uri": "https://localhost:8080/"
        },
        "id": "oCVccgYkgFmC",
        "outputId": "587d2653-afac-4477-d0bc-ca3de773331e"
      },
      "source": [
        "*x, y = (1,2,3,4)\n",
        "print(x, type(x))"
      ],
      "execution_count": 8,
      "outputs": [
        {
          "output_type": "stream",
          "text": [
            "[1, 2, 3] <class 'list'>\n"
          ],
          "name": "stdout"
        }
      ]
    },
    {
      "cell_type": "code",
      "metadata": {
        "colab": {
          "base_uri": "https://localhost:8080/"
        },
        "id": "TgvmNZWNgT81",
        "outputId": "831a3308-0491-4477-a405-57905ecdf703"
      },
      "source": [
        "print(y, type(y))"
      ],
      "execution_count": 9,
      "outputs": [
        {
          "output_type": "stream",
          "text": [
            "4 <class 'int'>\n"
          ],
          "name": "stdout"
        }
      ]
    },
    {
      "cell_type": "markdown",
      "metadata": {
        "id": "yN8pO7vugVcv"
      },
      "source": [
        "### 2.3.2 네임드 튜플 \n",
        "\n",
        "파이썬 표준 모듈 collection에는 네임드 튜플이라는 시퀀스 데이터 타입이 있어요. 네임드 튜플은 일반 튜플과 비슷한 성능과 특성을 갖지만, 튜플 항목을 인덱스 위치뿐만 아니라 이름으로도 참조할 수 있어요. \n",
        "\n",
        "collecions.namedtuple() 메서드의 첫 번째 인수는 만들고자 하는 사용자정의 튜플 데이터 타입의 이름이에요. (통상 왼쪽에 할당하는 변수의 이름과 똑같이 사용해요.) 두 번째 인수는 사용자 정의 튜플 각 항목을 지정하는 '공백으로 구분 된 문자열'이에요. (리스트 또는 튜플로 지정해도 된다). 참고로 주석으로 처리한 문장 역시 결과는 동일해요. "
      ]
    },
    {
      "cell_type": "code",
      "metadata": {
        "colab": {
          "base_uri": "https://localhost:8080/",
          "height": 250
        },
        "id": "jgqUSb_VhOdn",
        "outputId": "fce1180e-58d1-47fa-b8b9-c91dd3fb8853"
      },
      "source": [
        "import collections\n",
        "\n",
        "Person = collections.namedtuple('Pserson', 'name age gender')\n",
        "# Person = collections.namedtuple('Pserson', ['name', 'age', 'gender'])\n",
        "# Person = collections.namedtuple('Pserson', ('name', 'age', 'gender'))\n",
        "# Person = collections.namedtuple('Pserson', {'name', 'age', 'gender'})\n",
        "p = Person('아스틴', 30, '남자')\n",
        "print(p)\n",
        "print(p[0])\n",
        "print(p.name)\n",
        "p.age = 20 # AttributeError : 일반 튜플과 동일하게 불변형 타입이기 때문"
      ],
      "execution_count": 34,
      "outputs": [
        {
          "output_type": "stream",
          "text": [
            "Pserson(name='아스틴', age=30, gender='남자')\n",
            "아스틴\n",
            "아스틴\n"
          ],
          "name": "stdout"
        },
        {
          "output_type": "error",
          "ename": "AttributeError",
          "evalue": "ignored",
          "traceback": [
            "\u001b[0;31m---------------------------------------------------------------------------\u001b[0m",
            "\u001b[0;31mAttributeError\u001b[0m                            Traceback (most recent call last)",
            "\u001b[0;32m<ipython-input-34-aa3dc7c6ae0b>\u001b[0m in \u001b[0;36m<module>\u001b[0;34m()\u001b[0m\n\u001b[1;32m      9\u001b[0m \u001b[0mprint\u001b[0m\u001b[0;34m(\u001b[0m\u001b[0mp\u001b[0m\u001b[0;34m[\u001b[0m\u001b[0;36m0\u001b[0m\u001b[0;34m]\u001b[0m\u001b[0;34m)\u001b[0m\u001b[0;34m\u001b[0m\u001b[0;34m\u001b[0m\u001b[0m\n\u001b[1;32m     10\u001b[0m \u001b[0mprint\u001b[0m\u001b[0;34m(\u001b[0m\u001b[0mp\u001b[0m\u001b[0;34m.\u001b[0m\u001b[0mname\u001b[0m\u001b[0;34m)\u001b[0m\u001b[0;34m\u001b[0m\u001b[0;34m\u001b[0m\u001b[0m\n\u001b[0;32m---> 11\u001b[0;31m \u001b[0mp\u001b[0m\u001b[0;34m.\u001b[0m\u001b[0mage\u001b[0m \u001b[0;34m=\u001b[0m \u001b[0;36m20\u001b[0m \u001b[0;31m# AttributeError : 일반 튜플과 동일하게 불변형 타입이기 때문\u001b[0m\u001b[0;34m\u001b[0m\u001b[0;34m\u001b[0m\u001b[0m\n\u001b[0m",
            "\u001b[0;31mAttributeError\u001b[0m: can't set attribute"
          ]
        }
      ]
    },
    {
      "cell_type": "markdown",
      "metadata": {
        "id": "c1XJZLbSh0Wb"
      },
      "source": [
        "### 2.4.1 리스트 메서드\n"
      ]
    },
    {
      "cell_type": "code",
      "metadata": {
        "id": "eXM6EVO7jCO1"
      },
      "source": [
        "# append() : \n",
        "# A.append(x)는 리스트 A끝에 항목 추가 \n",
        "# 참고로, A[len(A): ] = [x] 와 동일함.\n"
      ],
      "execution_count": 36,
      "outputs": []
    },
    {
      "cell_type": "code",
      "metadata": {
        "colab": {
          "base_uri": "https://localhost:8080/"
        },
        "id": "rCvT9GAfjTAi",
        "outputId": "0a81be1a-4cfb-41e1-c8c9-035083f03fdc"
      },
      "source": [
        "people = ['버피', '페이스']\n",
        "# people.append('자일스', 1, 0, True) # 참고로 append메서드는 1개의 인수를 받아요. 추가로 받으면 TypeError\n",
        "people.append(['자일스', 1, 0, True]) \n",
        "print(people)\n",
        "\n",
        "people[len(people): ] = '뭐라구1' # 이렇게 넣으면 아래와 같이 단어 하나하나가 쪼개져서 들어감. 그래서 컨테이너에 담아야함.\n",
        "print(people)\n",
        "\n",
        "people[len(people): ] = '뭐라구2', # 괄호 하나 끝에 붙였는데 의도했던 대로 단어가 쪼개지지 않고 이쁘게 값으로 안착\n",
        "print(people)\n",
        "\n",
        "people[len(people): ] = ['뭐라구3'] # 혹은 매우 직관적으로 []괄호를 붙여줌.\n",
        "print(people)\n",
        "\n",
        "people[len(people): ] = ('뭐라구4') # 혹은 매우 직관적으로 ()괄호를 붙여줌. 하지만 실패!! 괄호를 안에 붙여줘야함.\n",
        "print(people)\n",
        "\n",
        "people[len(people): ] = ('뭐라구5',) # 혹은 매우 직관적으로 ()괄호를 붙여줌 with ,\n",
        "print(people)\n",
        "\n",
        "people[len(people): ] = {'뭐라구6'}# 혹은 매우 직관적으로 {}괄호를 붙여줌.\n",
        "print(people)\n",
        "\n",
        "## 2차원 배열로 만드는 방법은 간단한 컨테이너 옆에 콤마, 하나만 붙이면 딱! 만들어짐\n",
        "print('*'*60)\n",
        "\n",
        "people = ['버피', '페이스']\n",
        "people.append(['자일스', 1, 0, True]) \n",
        "print(people)\n",
        "\n",
        "people[len(people): ] = '뭐라구1' \n",
        "print(people)\n",
        "\n",
        "people[len(people): ] = '뭐라구2', \n",
        "print(people)\n",
        "\n",
        "people[len(people): ] = ['뭐라구3'], \n",
        "print(people)\n",
        "\n",
        "people[len(people): ] = ('뭐라구4'), \n",
        "print(people)\n",
        "\n",
        "people[len(people): ] = ('뭐라구5',), \n",
        "print(people)\n",
        "\n",
        "people[len(people): ] = {'뭐라구6'},\n",
        "print(people)\n"
      ],
      "execution_count": 52,
      "outputs": [
        {
          "output_type": "stream",
          "text": [
            "['버피', '페이스', ['자일스', 1, 0, True]]\n",
            "['버피', '페이스', ['자일스', 1, 0, True], '뭐', '라', '구', '1']\n",
            "['버피', '페이스', ['자일스', 1, 0, True], '뭐', '라', '구', '1', '뭐라구2']\n",
            "['버피', '페이스', ['자일스', 1, 0, True], '뭐', '라', '구', '1', '뭐라구2', '뭐라구3']\n",
            "['버피', '페이스', ['자일스', 1, 0, True], '뭐', '라', '구', '1', '뭐라구2', '뭐라구3', '뭐', '라', '구', '4']\n",
            "['버피', '페이스', ['자일스', 1, 0, True], '뭐', '라', '구', '1', '뭐라구2', '뭐라구3', '뭐', '라', '구', '4', '뭐라구5']\n",
            "['버피', '페이스', ['자일스', 1, 0, True], '뭐', '라', '구', '1', '뭐라구2', '뭐라구3', '뭐', '라', '구', '4', '뭐라구5', '뭐라구6']\n",
            "************************************************************\n",
            "['버피', '페이스', ['자일스', 1, 0, True]]\n",
            "['버피', '페이스', ['자일스', 1, 0, True], '뭐', '라', '구', '1']\n",
            "['버피', '페이스', ['자일스', 1, 0, True], '뭐', '라', '구', '1', '뭐라구2']\n",
            "['버피', '페이스', ['자일스', 1, 0, True], '뭐', '라', '구', '1', '뭐라구2', ['뭐라구3']]\n",
            "['버피', '페이스', ['자일스', 1, 0, True], '뭐', '라', '구', '1', '뭐라구2', ['뭐라구3'], '뭐라구4']\n",
            "['버피', '페이스', ['자일스', 1, 0, True], '뭐', '라', '구', '1', '뭐라구2', ['뭐라구3'], '뭐라구4', ('뭐라구5',)]\n",
            "['버피', '페이스', ['자일스', 1, 0, True], '뭐', '라', '구', '1', '뭐라구2', ['뭐라구3'], '뭐라구4', ('뭐라구5',), {'뭐라구6'}]\n"
          ],
          "name": "stdout"
        }
      ]
    },
    {
      "cell_type": "code",
      "metadata": {
        "colab": {
          "base_uri": "https://localhost:8080/"
        },
        "id": "q5Y03Dbtjh8u",
        "outputId": "1f878988-0a3a-4a0d-d239-5c34d7711916"
      },
      "source": [
        "### extend() 메서드를 이용함 \n",
        "# 또는 A[len(A) : ] += c 혹은  A +=c\n",
        "\n",
        "people = ['버피', '페이스']\n",
        "people += 'hello'\n",
        "print(people)\n",
        "people += '성공1',\n",
        "print(people)\n",
        "people.extend(('실패1'))\n",
        "print(people)\n",
        "people.extend(('성공2',))\n",
        "print(people)\n",
        "people.extend(['성공3'])\n",
        "print(people)\n",
        "people.extend({'성공4'})\n",
        "print(people)\n",
        "print('*'*50, '2차원 배열')\n",
        "people.extend(('실패2',1),)\n",
        "print(people)\n",
        "people.extend(['실패3',2,3,4],)\n",
        "print(people)\n",
        "people.extend({'실패4',3,4,5,6},)\n",
        "print(people)\n",
        "people += ['이차번배열 실패넹','이차번배열 실패넹' ]\n",
        "print(people)"
      ],
      "execution_count": 69,
      "outputs": [
        {
          "output_type": "stream",
          "text": [
            "['버피', '페이스', 'h', 'e', 'l', 'l', 'o']\n",
            "['버피', '페이스', 'h', 'e', 'l', 'l', 'o', '성공1']\n",
            "['버피', '페이스', 'h', 'e', 'l', 'l', 'o', '성공1', '실', '패', '1']\n",
            "['버피', '페이스', 'h', 'e', 'l', 'l', 'o', '성공1', '실', '패', '1', '성공2']\n",
            "['버피', '페이스', 'h', 'e', 'l', 'l', 'o', '성공1', '실', '패', '1', '성공2', '성공3']\n",
            "['버피', '페이스', 'h', 'e', 'l', 'l', 'o', '성공1', '실', '패', '1', '성공2', '성공3', '성공4']\n",
            "************************************************** 2차원 배열\n",
            "['버피', '페이스', 'h', 'e', 'l', 'l', 'o', '성공1', '실', '패', '1', '성공2', '성공3', '성공4', '실패2', 1]\n",
            "['버피', '페이스', 'h', 'e', 'l', 'l', 'o', '성공1', '실', '패', '1', '성공2', '성공3', '성공4', '실패2', 1, '실패3', 2, 3, 4]\n",
            "['버피', '페이스', 'h', 'e', 'l', 'l', 'o', '성공1', '실', '패', '1', '성공2', '성공3', '성공4', '실패2', 1, '실패3', 2, 3, 4, 3, 4, 5, 6, '실패4']\n",
            "['버피', '페이스', 'h', 'e', 'l', 'l', 'o', '성공1', '실', '패', '1', '성공2', '성공3', '성공4', '실패2', 1, '실패3', 2, 3, 4, 3, 4, 5, 6, '실패4', '이차번배열 실패넹', '이차번배열 실패넹']\n"
          ],
          "name": "stdout"
        }
      ]
    },
    {
      "cell_type": "code",
      "metadata": {
        "colab": {
          "base_uri": "https://localhost:8080/"
        },
        "id": "0asgqLEhmgnC",
        "outputId": "008db225-0aa2-4bdd-c2ca-c15bb5c81415"
      },
      "source": [
        "# insert()\n",
        "# a.insert(i, x)는 리스트 a의 인덱스 위치 i에 x를 삽임함\n",
        "a = [1,2]\n",
        "a.insert(0,'hello')\n",
        "print(a)\n",
        "# a.insert(,'횻옹') # insert 메서드는 2개의 인자를 반드시 넣어줘야함. SyntaxError 발생\n",
        "a.insert(a.index(a[-1]),'에궁') # 무조건 마지막 인덱스에 집어 넣음 # append쓰면 더 깔끔함.\n",
        "print(a)"
      ],
      "execution_count": 75,
      "outputs": [
        {
          "output_type": "stream",
          "text": [
            "['hello', 1, 2]\n",
            "['hello', 1, '에궁', 2]\n"
          ],
          "name": "stdout"
        }
      ]
    },
    {
      "cell_type": "code",
      "metadata": {
        "colab": {
          "base_uri": "https://localhost:8080/"
        },
        "id": "kUg1x6wooTKt",
        "outputId": "b8b374c9-8f98-4515-ca30-82242645bd99"
      },
      "source": [
        "# remove() 리스트 a의 항목 x를 제거함. x가 존재하지 않으면 ValueError 예외를 발생함\n",
        "a = [1,2]\n",
        "a.remove(1)\n",
        "print(a)\n",
        "# a.remove(1) # ValueError 발생함. 그래서 except문으로 오류를 catch 할 수 있음"
      ],
      "execution_count": 78,
      "outputs": [
        {
          "output_type": "stream",
          "text": [
            "[2]\n"
          ],
          "name": "stdout"
        }
      ]
    },
    {
      "cell_type": "code",
      "metadata": {
        "colab": {
          "base_uri": "https://localhost:8080/",
          "height": 233
        },
        "id": "4tFIRO3KpO75",
        "outputId": "bbae9b11-e846-411e-baaa-649715bd6035"
      },
      "source": [
        "# a.pop(x)는 리스트 a에서 인덱스 x에 있는 항목을 제거하고 그 항목을 반환함. \n",
        "# 인수를 지정하지 않으면 마지막 항목을 제거하고 반환함. \n",
        "a = [1,2,3]\n",
        "# print(a.pop([0,1]))\n",
        "print(a)\n",
        "\n",
        "# for i in range(2):\n",
        "#   a.pop([0,1]) # 인자에 정수 이외의 값이 오면 TypeError 발생\n",
        "# print(a)"
      ],
      "execution_count": 85,
      "outputs": [
        {
          "output_type": "stream",
          "text": [
            "[1, 2, 3]\n"
          ],
          "name": "stdout"
        },
        {
          "output_type": "error",
          "ename": "TypeError",
          "evalue": "ignored",
          "traceback": [
            "\u001b[0;31m---------------------------------------------------------------------------\u001b[0m",
            "\u001b[0;31mTypeError\u001b[0m                                 Traceback (most recent call last)",
            "\u001b[0;32m<ipython-input-85-4d35567d9205>\u001b[0m in \u001b[0;36m<module>\u001b[0;34m()\u001b[0m\n\u001b[1;32m      6\u001b[0m \u001b[0;34m\u001b[0m\u001b[0m\n\u001b[1;32m      7\u001b[0m \u001b[0;32mfor\u001b[0m \u001b[0mi\u001b[0m \u001b[0;32min\u001b[0m \u001b[0mrange\u001b[0m\u001b[0;34m(\u001b[0m\u001b[0;36m2\u001b[0m\u001b[0;34m)\u001b[0m\u001b[0;34m:\u001b[0m\u001b[0;34m\u001b[0m\u001b[0;34m\u001b[0m\u001b[0m\n\u001b[0;32m----> 8\u001b[0;31m   \u001b[0ma\u001b[0m\u001b[0;34m.\u001b[0m\u001b[0mpop\u001b[0m\u001b[0;34m(\u001b[0m\u001b[0mnext\u001b[0m\u001b[0;34m(\u001b[0m\u001b[0;34m[\u001b[0m\u001b[0;36m0\u001b[0m\u001b[0;34m,\u001b[0m\u001b[0;36m1\u001b[0m\u001b[0;34m]\u001b[0m\u001b[0;34m)\u001b[0m\u001b[0;34m)\u001b[0m\u001b[0;34m\u001b[0m\u001b[0;34m\u001b[0m\u001b[0m\n\u001b[0m\u001b[1;32m      9\u001b[0m \u001b[0mprint\u001b[0m\u001b[0;34m(\u001b[0m\u001b[0ma\u001b[0m\u001b[0;34m)\u001b[0m\u001b[0;34m\u001b[0m\u001b[0;34m\u001b[0m\u001b[0m\n",
            "\u001b[0;31mTypeError\u001b[0m: 'list' object is not an iterator"
          ]
        }
      ]
    },
    {
      "cell_type": "code",
      "metadata": {
        "colab": {
          "base_uri": "https://localhost:8080/",
          "height": 250
        },
        "id": "Ee2g9GEzpulH",
        "outputId": "509aa6ec-0553-4406-88b8-5543b0e39ce1"
      },
      "source": [
        "# del 리스트 인덱스를 지정하여 특정한 항목을 삭제함. \n",
        "# 범위 항목들을 삭제할 수 있음. \n",
        "\n",
        "a = [1,2,3,4,5,6]\n",
        "del a[0]\n",
        "print(a)\n",
        "\n",
        "del a[2:3]\n",
        "print(a)\n",
        "\n",
        "del a # 변수 a 자체를 삭제함 \n",
        "print(a) # 메모리상에 없는데 호출하면 NameError 발생\n",
        "\n",
        "\n"
      ],
      "execution_count": 86,
      "outputs": [
        {
          "output_type": "stream",
          "text": [
            "[2, 3, 4, 5, 6]\n",
            "[2, 3, 5, 6]\n"
          ],
          "name": "stdout"
        },
        {
          "output_type": "error",
          "ename": "NameError",
          "evalue": "ignored",
          "traceback": [
            "\u001b[0;31m---------------------------------------------------------------------------\u001b[0m",
            "\u001b[0;31mNameError\u001b[0m                                 Traceback (most recent call last)",
            "\u001b[0;32m<ipython-input-86-54cecfa39ae2>\u001b[0m in \u001b[0;36m<module>\u001b[0;34m()\u001b[0m\n\u001b[1;32m     10\u001b[0m \u001b[0;34m\u001b[0m\u001b[0m\n\u001b[1;32m     11\u001b[0m \u001b[0;32mdel\u001b[0m \u001b[0ma\u001b[0m \u001b[0;31m# 변수 a 자체를 삭제함\u001b[0m\u001b[0;34m\u001b[0m\u001b[0;34m\u001b[0m\u001b[0m\n\u001b[0;32m---> 12\u001b[0;31m \u001b[0mprint\u001b[0m\u001b[0;34m(\u001b[0m\u001b[0ma\u001b[0m\u001b[0;34m)\u001b[0m\u001b[0;34m\u001b[0m\u001b[0;34m\u001b[0m\u001b[0m\n\u001b[0m\u001b[1;32m     13\u001b[0m \u001b[0;34m\u001b[0m\u001b[0m\n",
            "\u001b[0;31mNameError\u001b[0m: name 'a' is not defined"
          ]
        }
      ]
    },
    {
      "cell_type": "code",
      "metadata": {
        "colab": {
          "base_uri": "https://localhost:8080/"
        },
        "id": "yUPNzj97qsvH",
        "outputId": "bc41d10f-16bd-48f6-b4bc-360c0855d129"
      },
      "source": [
        "# index() \n",
        "# a.index() 는 리스트 a에서 항목 x의 인덱스를 반환함. \n",
        "a = [1,2,3,4,[1,2],'',None, False,0, True]\n",
        "print(a.index(4))\n",
        "\n",
        "print(a.index([1,2]))\n",
        "print(a.index(''))\n",
        "print(a.index(None))\n",
        "print(a.index(0), '숫자0')\n",
        "print(a.index(False), 'False 반환 인덱스 위치?')\n",
        "print('True는 숫자1과 구별될까?',a.index(True))\n",
        "\n",
        "# 결론 한 리스트 변수 안에서 1, 0, True, False를 전혀 구분해서 찾지 못함. 버그?\n",
        "\n"
      ],
      "execution_count": 95,
      "outputs": [
        {
          "output_type": "stream",
          "text": [
            "3\n",
            "4\n",
            "5\n",
            "6\n",
            "7 숫자0\n",
            "7 False 반환 인덱스 위치?\n",
            "True는 숫자1과 구별될까? 0\n"
          ],
          "name": "stdout"
        }
      ]
    },
    {
      "cell_type": "code",
      "metadata": {
        "colab": {
          "base_uri": "https://localhost:8080/"
        },
        "id": "dnA-AJf2rBBK",
        "outputId": "8745a63b-4bd0-4a85-85a3-d5632b2ea585"
      },
      "source": [
        "# count()  만약 찾지 못하면 0을 뱉어냅니다.\n",
        "# a.count(x)는 리스트 a에 항목 x가 몇 개 들어 있는지 개수를 반환함!\n",
        "a = range(10)\n",
        "print(a.count(0))\n",
        "print(a.count(1))\n",
        "print(a.count(2))\n",
        "print(a.count(100))\n",
        "print(a.count('안녕'))\n",
        "\n",
        "print(a)\n",
        "b = [1,2]\n",
        "print(b.count('안녕'))\n",
        "print(b.count('안녕') == False)\n",
        "print(b.count('안녕') == 0)\n",
        "print(b.count('안녕') is False)\n",
        "print(b.count('안녕') is 0)\n",
        "\n",
        "\n"
      ],
      "execution_count": 103,
      "outputs": [
        {
          "output_type": "stream",
          "text": [
            "1\n",
            "1\n",
            "1\n",
            "0\n",
            "0\n",
            "range(0, 10)\n",
            "0\n",
            "True\n",
            "True\n",
            "False\n",
            "True\n"
          ],
          "name": "stdout"
        }
      ]
    },
    {
      "cell_type": "code",
      "metadata": {
        "colab": {
          "base_uri": "https://localhost:8080/"
        },
        "id": "T6LXcyiEspDl",
        "outputId": "1b09000f-bd14-42e6-ea52-699386a2ffb0"
      },
      "source": [
        "# sort() 리스트 A의 항목을 정렬하여 그 변수 자체에!!!! 적용함. 즉, 메서드 써버리면 바로 노빠구로 저장됨.\n",
        "# a.sort(key, reverse)에 아무런 인수가 없으면 오름차순으로 정렬하며, 인수를 지정할 때는 키워드 인수를 사용함. \n",
        "# 예를 들어 내림차순으로 하고싶다? 그럼 a.sort(reverse=False)형식으로 지정하고, 인수 key를 지정하려면 함수를 넣어야함. \n",
        "a = [1,2,3,4] # 튜플이나 셋 넣으면 세번째 줄에서 오류를 뱉어냄\n",
        "print(a,type(a))\n",
        "a.sort(reverse=True)\n",
        "print(a)"
      ],
      "execution_count": 109,
      "outputs": [
        {
          "output_type": "stream",
          "text": [
            "[1, 2, 3, 4] <class 'list'>\n",
            "[4, 3, 2, 1]\n"
          ],
          "name": "stdout"
        }
      ]
    },
    {
      "cell_type": "code",
      "metadata": {
        "colab": {
          "base_uri": "https://localhost:8080/"
        },
        "id": "hbt0JXIluMF8",
        "outputId": "630ba617-206c-499c-913b-3bf33b75c3b9"
      },
      "source": [
        "import time\n",
        "\n",
        "timestamp = [\n",
        "             '2018-12-12 01:22:00',\n",
        "             '2018-12-11 02:33:00',\n",
        "             '2018-12-10 03:55:00',\n",
        "             '2018-12-13 04:40:00',\n",
        "             '2018-12-14 05:11:00',\n",
        "             '2018-12-15 01:22:00',\n",
        "             '2018-12-16 05:32:00',\n",
        "             '2018-12-17 11:12:00',\n",
        "]\n",
        "print(timestamp)\n",
        "\n",
        "def time_stamp(t):\n",
        "  return time.strptime(t, '%Y-%m-%d %H:%M:%S')[:6]\n",
        "\n",
        "print(time_stamp('2018-12-12 00:00:00'))\n",
        "print(timestamp.sort(key=time_stamp, reverse=True))# 원본 변수 확인. \n",
        "for i in timestamp:\n",
        "  print(i)\n",
        "print('*'*100)\n",
        "print(timestamp.sort(key=lambda x: time.strptime(x, '%Y-%m-%d %H:%M:%S')[:6], reverse=True))\n",
        "for i in timestamp:\n",
        "  print(i)"
      ],
      "execution_count": 142,
      "outputs": [
        {
          "output_type": "stream",
          "text": [
            "['2018-12-12 01:22:00', '2018-12-11 02:33:00', '2018-12-10 03:55:00', '2018-12-13 04:40:00', '2018-12-14 05:11:00', '2018-12-15 01:22:00', '2018-12-16 05:32:00', '2018-12-17 11:12:00']\n",
            "(2018, 12, 12, 0, 0, 0)\n",
            "None\n",
            "2018-12-17 11:12:00\n",
            "2018-12-16 05:32:00\n",
            "2018-12-15 01:22:00\n",
            "2018-12-14 05:11:00\n",
            "2018-12-13 04:40:00\n",
            "2018-12-12 01:22:00\n",
            "2018-12-11 02:33:00\n",
            "2018-12-10 03:55:00\n",
            "****************************************************************************************************\n",
            "None\n",
            "2018-12-17 11:12:00\n",
            "2018-12-16 05:32:00\n",
            "2018-12-15 01:22:00\n",
            "2018-12-14 05:11:00\n",
            "2018-12-13 04:40:00\n",
            "2018-12-12 01:22:00\n",
            "2018-12-11 02:33:00\n",
            "2018-12-10 03:55:00\n"
          ],
          "name": "stdout"
        }
      ]
    },
    {
      "cell_type": "code",
      "metadata": {
        "id": "imigvr2F182y"
      },
      "source": [
        ""
      ],
      "execution_count": null,
      "outputs": []
    },
    {
      "cell_type": "code",
      "metadata": {
        "id": "MuKzjwwUvTU1"
      },
      "source": [
        "# advanced \n",
        "# sort 함수의 옵션에서 key 함수를 이용한 정렬의 특별한 기준을 새롭게 정의 할 수 있음\n",
        "\n",
        "# 1. 리스트 내 요소들의 길이를 기준으로 정렬하고 싶다면? \n",
        "# 2. 리스트 안에 리스트 또는 튜플, 문자열과 iterable한 요소들이 존재하고 그 요소들의 특정 인덱스에 위치한 것을 기준으로 정렬하고 싶다면?\n",
        "# 3. 딕셔너리의 value를 이용하여 정렬할 수 있을까? \n"
      ],
      "execution_count": 126,
      "outputs": []
    },
    {
      "cell_type": "code",
      "metadata": {
        "colab": {
          "base_uri": "https://localhost:8080/"
        },
        "id": "e5ZeNYYnzla4",
        "outputId": "38745d20-4430-4d32-f4f1-fccdf9b46fa4"
      },
      "source": [
        "\n",
        "# 문자열을 기준으로 정렬하는 방법\n",
        "lst = ['I', 'have', 'been', 'on', 'the', 'low', 'I', 'been', 'taking', 'my', 'time']\n",
        "lst.sort(key=lambda x : len(x))\n",
        "print('안녕',lst)\n",
        "\n",
        "# iterable한 객체 내 특정 인덱스에 위치한 요소를 기준으로 정렬하는 방법\n",
        "lst = [(10, 5), (12, -1), (42, 16), (2, 13), (9, 15)]\n",
        "lst.sort(key = lambda x: x[1], reverse = True)\n",
        "print('반가워',lst)\n",
        "\n",
        "\n",
        "lst = [{'name':'단팥빵', 'quantity':10}, \n",
        "\t   {'name':'호빵', 'quantity':5}, \n",
        "       {'name':'꽈배기', 'quantity':12}, \n",
        "       {'name':'피자빵', 'quantity':6}]\n",
        "\n",
        "lst.sort(key = lambda x : x['quantity'])\n",
        "print('수량대로?', lst)\n"
      ],
      "execution_count": 136,
      "outputs": [
        {
          "output_type": "stream",
          "text": [
            "안녕 ['I', 'I', 'on', 'my', 'the', 'low', 'have', 'been', 'been', 'time', 'taking']\n",
            "반가워 [(42, 16), (9, 15), (2, 13), (10, 5), (12, -1)]\n",
            "수량대로? [{'name': '호빵', 'quantity': 5}, {'name': '피자빵', 'quantity': 6}, {'name': '단팥빵', 'quantity': 10}, {'name': '꽈배기', 'quantity': 12}]\n"
          ],
          "name": "stdout"
        }
      ]
    },
    {
      "cell_type": "code",
      "metadata": {
        "colab": {
          "base_uri": "https://localhost:8080/"
        },
        "id": "fxZY9eQ2z38K",
        "outputId": "f1ac13db-43ca-4cc3-a24b-2beb34851527"
      },
      "source": [
        "# reverse()\n",
        "# a.reverse() 메서드는 리스트 a의 항목들을 반전시켜서 그 변수에 적용한다. \n",
        "# list[::-1]을 사용하는 것과 같다.\n",
        "a = [1,2,3,4]\n",
        "a.reverse()\n",
        "print(a)"
      ],
      "execution_count": 139,
      "outputs": [
        {
          "output_type": "stream",
          "text": [
            "[4, 3, 2, 1]\n"
          ],
          "name": "stdout"
        }
      ]
    },
    {
      "cell_type": "code",
      "metadata": {
        "id": "agEX_WZX0tOZ"
      },
      "source": [
        ""
      ],
      "execution_count": null,
      "outputs": []
    }
  ]
}